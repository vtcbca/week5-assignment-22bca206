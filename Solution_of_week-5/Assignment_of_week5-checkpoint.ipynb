{
 "cells": [
  {
   "cell_type": "markdown",
   "id": "e36f847a",
   "metadata": {},
   "source": [
    "######  Insert Records Directly And Take Input From User Into CSV File."
   ]
  },
  {
   "cell_type": "code",
   "execution_count": 6,
   "id": "b16dab32",
   "metadata": {},
   "outputs": [
    {
     "name": "stdout",
     "output_type": "stream",
     "text": [
      " Enter ID Of Student : 16\n",
      " Enter Name Of Student : Radhika Jaiswal\n",
      " Enter City Of Student : Bardoli\n",
      " Enter Contact Number Of Student : 7989675432\n",
      " Enter ID Of Student : 17\n",
      " Enter Name Of Student : Sweta Patel\n",
      " Enter City Of Student : Surat\n",
      " Enter Contact Number Of Student : 9923783333\n",
      " Enter ID Of Student : 18\n",
      " Enter Name Of Student : Rohit Pandey\n",
      " Enter City Of Student : Valsad\n",
      " Enter Contact Number Of Student : 7989654323\n",
      " Enter ID Of Student : 19\n",
      " Enter Name Of Student : Rohit Sharma\n",
      " Enter City Of Student : Mumbai\n",
      " Enter Contact Number Of Student : 9995671050\n",
      " Enter ID Of Student : 20\n",
      " Enter Name Of Student : Subham Gill\n",
      " Enter City Of Student : Vadodara\n",
      " Enter Contact Number Of Student : 9932334565\n"
     ]
    }
   ],
   "source": [
    "def insert_records(attribute,records,list_of_records):\n",
    "    pass\n",
    "\n",
    "attribute=['StudentId','StudentName','City','Contact_Number']\n",
    "\n",
    "#Insert 5 records Directly\n",
    "records=[[11,'Jay Patel','Surat',9510500989],\n",
    "        [12,'Shree Rajput','Mumbai',9511100989],\n",
    "        [14,'Om Vyas','Surat',9911500989],\n",
    "        [13,'Krishna Prajapati','Delhi',9510522989],\n",
    "        [15,'Shiv Pandya','Surat',9712530989]]\n",
    "\n",
    "# Insert 5 records By User\n",
    "list_of_records=[]\n",
    "for i in range(5):\n",
    "        no=int(input(\" Enter ID Of Student : \"))\n",
    "        name=input(\" Enter Name Of Student : \")\n",
    "        city=input(\" Enter City Of Student : \")\n",
    "        phoneno=int(input(\" Enter Contact Number Of Student : \"))\n",
    "        li=[no,name,city,phoneno]\n",
    "        list_of_records.append(li)"
   ]
  },
  {
   "cell_type": "markdown",
   "id": "2f755cf6",
   "metadata": {},
   "source": [
    "###### Write Above Records Into student.csv File."
   ]
  },
  {
   "cell_type": "code",
   "execution_count": 7,
   "id": "224b171b",
   "metadata": {},
   "outputs": [],
   "source": [
    "def write_on_csvfile():\n",
    "    import csv as c\n",
    "    with open('D:\\PythonPractice\\student.csv','w',newline='') as csvobj:\n",
    "        whole_file=c.writer(csvobj)\n",
    "        whole_file.writerow(attribute)\n",
    "        whole_file.writerows(records)\n",
    "        whole_file.writerows(list_of_records)\n"
   ]
  },
  {
   "cell_type": "markdown",
   "id": "b5482d20",
   "metadata": {},
   "source": [
    "###### Read Student.csv File And Print It."
   ]
  },
  {
   "cell_type": "code",
   "execution_count": 10,
   "id": "5c0a3191",
   "metadata": {},
   "outputs": [],
   "source": [
    "def read_csvfile():\n",
    "    import csv\n",
    "    \n",
    "    with open('D:\\PythonPractice\\student.csv', 'r') as obj:\n",
    "        allrecords_of_file = csv.DictReader(obj)\n",
    "        \n",
    "        # For Printing header\n",
    "        header = \"{:^12} {:^20} {:^15} {:^15}\".format('StudentId', 'StudentName', 'City', 'Contact_Number')\n",
    "        print(header,\"\\n\")\n",
    "        \n",
    "              \n",
    "        # For Printing records\n",
    "        for records in allrecords_of_file:\n",
    "            record_line = \"{:^12} {:^20} {:^15} {:^15}\".format(records['StudentId'], records['StudentName'], records['City'], records['Contact_Number'])\n",
    "            print(record_line)\n"
   ]
  },
  {
   "cell_type": "markdown",
   "id": "91a100fd",
   "metadata": {},
   "source": [
    "###### Function Call"
   ]
  },
  {
   "cell_type": "code",
   "execution_count": 11,
   "id": "fa35ff7e",
   "metadata": {},
   "outputs": [
    {
     "name": "stdout",
     "output_type": "stream",
     "text": [
      " StudentId       StudentName           City       Contact_Number  \n",
      "\n",
      "     11           Jay Patel            Surat        9510500989   \n",
      "     12          Shree Rajput         Mumbai        9511100989   \n",
      "     14            Om Vyas             Surat        9911500989   \n",
      "     13       Krishna Prajapati        Delhi        9510522989   \n",
      "     15          Shiv Pandya           Surat        9712530989   \n",
      "     16        Radhika Jaiswal        Bardoli       7989675432   \n",
      "     17          Sweta Patel           Surat        9923783333   \n",
      "     18          Rohit Pandey         Valsad        7989654323   \n",
      "     19          Rohit Sharma         Mumbai        9995671050   \n",
      "     20          Subham Gill         Vadodara       9932334565   \n"
     ]
    }
   ],
   "source": [
    "insert_records(attribute, records,list_of_records)\n",
    "write_on_csvfile()\n",
    "read_csvfile()"
   ]
  },
  {
   "cell_type": "code",
   "execution_count": null,
   "id": "c576ce1e",
   "metadata": {},
   "outputs": [],
   "source": []
  }
 ],
 "metadata": {
  "kernelspec": {
   "display_name": "Python 3 (ipykernel)",
   "language": "python",
   "name": "python3"
  },
  "language_info": {
   "codemirror_mode": {
    "name": "ipython",
    "version": 3
   },
   "file_extension": ".py",
   "mimetype": "text/x-python",
   "name": "python",
   "nbconvert_exporter": "python",
   "pygments_lexer": "ipython3",
   "version": "3.11.4"
  }
 },
 "nbformat": 4,
 "nbformat_minor": 5
}
